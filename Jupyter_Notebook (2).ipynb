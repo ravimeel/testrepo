{
 "cells": [
  {
   "cell_type": "markdown",
   "id": "2d509680",
   "metadata": {},
   "source": [
    "# My Jupyter Notebook on IBM Watson Studio"
   ]
  },
  {
   "cell_type": "markdown",
   "id": "e87244e2",
   "metadata": {},
   "source": [
    "__Ravi Meel__\n",
    "Student"
   ]
  },
  {
   "cell_type": "markdown",
   "id": "bda86853",
   "metadata": {},
   "source": [
    "_I am interested in data science because I love to implement mathematics concept in real world._"
   ]
  },
  {
   "cell_type": "markdown",
   "id": "5054e20e",
   "metadata": {},
   "source": [
    "### My code will do multiplication"
   ]
  },
  {
   "cell_type": "code",
   "execution_count": 4,
   "id": "234a27ee",
   "metadata": {},
   "outputs": [
    {
     "data": {
      "text/plain": [
       "54"
      ]
     },
     "execution_count": 4,
     "metadata": {},
     "output_type": "execute_result"
    }
   ],
   "source": [
    "6*9"
   ]
  },
  {
   "cell_type": "markdown",
   "id": "9b2c3c80",
   "metadata": {},
   "source": [
    "***"
   ]
  },
  {
   "cell_type": "markdown",
   "id": "f25ef474",
   "metadata": {},
   "source": [
    "1. 2. 3. 4."
   ]
  },
  {
   "cell_type": "markdown",
   "id": "888ae830",
   "metadata": {},
   "source": [
    "- \n",
    "-\n",
    "-"
   ]
  },
  {
   "cell_type": "code",
   "execution_count": null,
   "id": "334261a4",
   "metadata": {},
   "outputs": [],
   "source": []
  }
 ],
 "metadata": {
  "kernelspec": {
   "display_name": "Python 3",
   "language": "python",
   "name": "python3"
  },
  "language_info": {
   "codemirror_mode": {
    "name": "ipython",
    "version": 3
   },
   "file_extension": ".py",
   "mimetype": "text/x-python",
   "name": "python",
   "nbconvert_exporter": "python",
   "pygments_lexer": "ipython3",
   "version": "3.8.8"
  }
 },
 "nbformat": 4,
 "nbformat_minor": 5
}
